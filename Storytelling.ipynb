{
 "cells": [
  {
   "cell_type": "markdown",
   "id": "54d48513",
   "metadata": {},
   "source": [
    "<h2 style = \"color: slateblue;font-size:25pt;line-height:2em;\">Felicidade e Desenvolvimento Humano</h2>"
   ]
  },
  {
   "cell_type": "markdown",
   "id": "96dc3317",
   "metadata": {},
   "source": [
    "<p style = \"color: slateblue;font-size:25pt;line-height:2em;\">\n",
    "    <span style = \"font-weight:bold;\">Felicidade</span> tem a ver com desenvolvimento humano em relação à <span style = \"font-weight:bold;\">saúde, educação e renda</span>? \n",
    "</p>"
   ]
  },
  {
   "cell_type": "markdown",
   "id": "bc613004",
   "metadata": {},
   "source": [
    "<p style = \"color: slateblue;font-size:25pt;line-height:2em;\">\n",
    "    Para responder essa pergunta precisamos de <span style = \"font-weight:bold;\">métricas</span>. \n",
    "</p>"
   ]
  },
  {
   "cell_type": "markdown",
   "id": "4d9de739",
   "metadata": {},
   "source": [
    "<p style = \"color: slateblue;font-size:25pt;line-height:2em;\">Para a nossa felicidade existe uma <span style = \"font-weight:bold;\">medida de felicidade</span> que é publicada no Relatório Mundial da Felicidade.</p>\n",
    "<p style = \"color: slateblue;font-size:25pt;line-height:2em;\">O Relatório Mundial da Felicidade é uma pesquisa notável que indica o <span style = \"font-weight:bold;\">estado de felicidade global</span> em mais de 150 países com base na <span style = \"font-weight:bold;\">satisfação dos cidadãos em relação às suas vidas</span>. O propósito da pesquisa é entender mais a fundo sobre o <span style = \"font-weight:bold;\">bem-estar</span> e usar os dados para acompanhar a satisfação e qualidade de vida ao redor do mundo.  O resultado do ranking global de felicidade depende, exclusivamente, da avaliação individual das pessoas nos últimos três anos. Então, ao falarmos da edição de 2020, o índice considera os dados de 2017 a 2019. Simplificando, é como pedir para alguém responder, de <span style = \"font-weight:bold;\">0 a 10, quão satisfeito está com a sua vida hoje</span>, onde '10' representa a melhor situação possível e '0' representa a pior situação possível.</p>"
   ]
  },
  {
   "cell_type": "markdown",
   "id": "0c7bec50",
   "metadata": {},
   "source": [
    "<div style = \"color: slateblue;font-size:25pt;line-height:2em;\">\n",
    "<p>Também existe uma medida de desenvolvimento humano que é o <span style = \"font-weight:bold;\">Índice de Desenvolvimento Humano.</span></p>\n",
    "<p>O índice de Desenvolvimento Humano (IDH) é um índice composto que mede o desempenho médio em três <span style = \"font-weight:bold;\">dimensões básicas do desenvolvimento humano</span>:</p> \n",
    " <ul>   \n",
    "    <li><span style = \"font-weight:bold;\">uma vida longa e saudável</span>: expectativa de vida ao nascer;</li>\n",
    "    <li><span style = \"font-weight:bold;\">o acesso ao conhecimento</span>: anos Médios de estudo e anos esperados de escolaridade;</li>\n",
    "    <li><span style = \"font-weight:bold;\">um padrão de vida decente</span>: PIB (PPC) per capita;</li>\n",
    "   </ul>\n",
    " <p>É uma medida comparativa usada para classificar os países pelo seu <span style = \"font-weight:bold;\">grau de \"desenvolvimento humano\"</span> e para ajudar a classificar os países como desenvolvidos (desenvolvimento humano muito alto), em desenvolvimento (desenvolvimento humano médio e alto) e subdesenvolvidos (desenvolvimento humano baixo).</p>\n",
    "    <p>O desenvolvimento humano é classificado conforme o enquadramento do IDH em um dos quatro intervalos abaixo.</p>\n",
    "        <ul><li>IDH menor que 0,550: desenvolvimento baixo;</li>\n",
    "            <li>IDH de 0,550 à  0,699: desenvolvimento médio;</li>\n",
    "            <li>IDH de 0,700 à 0,799: desenvolvimento alto;</li>\n",
    "            <li>IDH maior que 0,800: desenvolvimento muito alto;</li> </ul>\n",
    "</div>"
   ]
  },
  {
   "cell_type": "markdown",
   "id": "821aabfa",
   "metadata": {},
   "source": [
    "<div style = \"color: slateblue;font-size:25pt;line-height:2em;\">\n",
    "    <p>Mas, o quanto <span style = \"font-weight:bold;\">\"desenvolvimento humano\"</span> e <span style = \"font-weight:bold;\">\"felicidade\"</span> estão <span style = \"font-weight:bold;\">relacionados</span> em termos dos índices?</p>\n",
    " </div>"
   ]
  },
  {
   "cell_type": "markdown",
   "id": "c7456bbd",
   "metadata": {},
   "source": [
    "<div style = \"color: slateblue;font-size:25pt;line-height:2em;\">\n",
    "    <p>Eles estão muito relacionados e possuem uma <span style = \"font-weight:bold;\">correlação forte de 0.83</span>, ou seja, para países com pontuações altas de felicidade os IDH's são altos.</p>\n",
    "    <img src = \"correlacao_idh_hap.png\">\n",
    " </div>"
   ]
  },
  {
   "cell_type": "markdown",
   "id": "e214159c",
   "metadata": {},
   "source": [
    "<div style = \"color: slateblue;font-size:25pt;line-height:2em;\">\n",
    "    <p>Países com <span style = \"font-weight:bold;\">Índice de Desenvolvimento Humano Alto</span>, possuem <span style = \"font-weight:bold;\">pontuações de felicidade altas</span>:</p>\n",
    "     <img src = \"medias_dos_scores.png\">\n",
    " </div>"
   ]
  },
  {
   "cell_type": "markdown",
   "id": "03993733",
   "metadata": {},
   "source": [
    "<div style = \"color: slateblue;font-size:25pt;line-height:2em;\">\n",
    "    <p>Mas... crescimento em saúde, educação e renda significa crescimento em felicidade?</p>\n",
    " </div>"
   ]
  },
  {
   "cell_type": "markdown",
   "id": "a00cd8bd",
   "metadata": {},
   "source": [
    "<div style = \"color: slateblue;font-size:25pt;line-height:2em;\">\n",
    "    <p>Nem sempre, vemos individualmente em alguns países um <span style = \"font-weight:bold;\">crescimento do desenvolvimento humano</span>, porém a felicidade diminuiu...</p>\n",
    "    <img src = \"serie_paises.png\" style = \"width:100%;\"> \n",
    " </div>"
   ]
  },
  {
   "cell_type": "markdown",
   "id": "2b9d3ac9",
   "metadata": {},
   "source": [
    "<div style = \"color: slateblue;font-size:25pt;line-height:2em;\">\n",
    "    <p>Então governantes, líderes, precisamos sim <span style = \"font-weight:bold;\">melhorar as condições de saúde, educação e renda</span> dos países para melhorar o desenvolvimento humano e a percepção de felicidade das pessoas, porém felicidade não é somente isso, <span style = \"font-weight:bold;\">felicidade também possui fatores subjetivos</span>.</p>\n",
    " </div>"
   ]
  }
 ],
 "metadata": {
  "kernelspec": {
   "display_name": "Python 3 (ipykernel)",
   "language": "python",
   "name": "python3"
  },
  "language_info": {
   "codemirror_mode": {
    "name": "ipython",
    "version": 3
   },
   "file_extension": ".py",
   "mimetype": "text/x-python",
   "name": "python",
   "nbconvert_exporter": "python",
   "pygments_lexer": "ipython3",
   "version": "3.8.5"
  }
 },
 "nbformat": 4,
 "nbformat_minor": 5
}
